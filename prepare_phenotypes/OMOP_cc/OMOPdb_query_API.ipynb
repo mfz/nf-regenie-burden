{
 "cells": [
  {
   "cell_type": "markdown",
   "metadata": {},
   "source": [
    "## Define functions to query OMOP database"
   ]
  },
  {
   "cell_type": "code",
   "execution_count": null,
   "metadata": {
    "vscode": {
     "languageId": "r"
    }
   },
   "outputs": [],
   "source": [
    "library(dplyr)\n",
    "library(RSQLite)\n",
    "\n",
    "con <- dbConnect(SQLite(), \"OMOP.db\")\n",
    "\n",
    "#' convert icd codes (ICD9/10) to OMOP concept ids\n",
    "icd_to_omop <- function(icd, data.frame = FALSE){\n",
    "    \n",
    "    icd2omop <- tbl(con, \"icd2omop\")\n",
    "\n",
    "    # convert ICD9/10 to OMOP ids\n",
    "    omop.df <- icd2omop %>%\n",
    "      filter(icd_code %in% !!icd) %>%\n",
    "      collect() \n",
    "    \n",
    "    if (data.frame) omop.df else omop.df$omop_concept_id\n",
    "    \n",
    "}\n",
    "\n",
    "#' find descendant concept_ids for given omop condition concept_ids\n",
    "omop_condition_descendants <- function(omop) {\n",
    "    \n",
    "    pd <- tbl(con, \"condition_descendants\")\n",
    "    \n",
    "    res <- pd |>\n",
    "        filter(ancestor_concept_id %in% !!omop) |>\n",
    "        select(descendant_concept_id) |>\n",
    "        collect() |>\n",
    "        pull(descendant_concept_id)\n",
    "    \n",
    "    res\n",
    "    \n",
    "}\n",
    "\n",
    "#' create data frame with (person_id, min_date, max_date, n_dates) for given omop concept_ids\n",
    "#' If descendants = TRUE, also include descendant concept_ids\n",
    "omop_condition_occurrence <- function(omop, descendants = TRUE) {\n",
    "    \n",
    "    co <- tbl(con, \"condition_occurrence\")\n",
    "    demo <- tbl(con, \"demographics\")\n",
    "    \n",
    "    keys <- omop\n",
    "    \n",
    "    if (descendants) {\n",
    "        keys <- omop_condition_descendants(keys)\n",
    "    }\n",
    "    \n",
    "    res <- co |> \n",
    "      filter(condition_concept_id %in% !!keys) |> \n",
    "      select(person_id, condition_start_date) |>\n",
    "      group_by(person_id, condition_start_date) |>\n",
    "          summarize(n = 1, .groups = \"drop\") |>\n",
    "      group_by(person_id) |>\n",
    "          summarize(min_date = min(condition_start_date, na.rm = TRUE),\n",
    "                    max_date = max(condition_start_date, na.rm = TRUE),\n",
    "                    n_dates = n(), .groups = \"drop\") |> \n",
    "      left_join(select(demo, person_id, dob), by = 'person_id') |>\n",
    "      mutate(min_age = (min_date - dob)/365.25, \n",
    "             max_age = (max_date - dob)/365.25) |> \n",
    "      select(person_id, min_date, max_date, min_age, max_age, n_dates) |>\n",
    "      collect() |>\n",
    "      mutate(min_date = as.Date(min_date),\n",
    "             max_date = as.Date(max_date))\n",
    "    \n",
    "    res\n",
    "}\n",
    "\n",
    "#' find descendant concept_ids for given omop procedure concept_ids\n",
    "omop_procedure_descendants <- function(omop) {\n",
    "    \n",
    "    pd <- tbl(con, \"procedure_descendants\")\n",
    "    \n",
    "    res <- pd |>\n",
    "        filter(ancestor_concept_id %in% !!omop) |>\n",
    "        select(descendant_concept_id) |>\n",
    "        collect() |>\n",
    "        pull(descendant_concept_id)\n",
    "    \n",
    "    res\n",
    "    \n",
    "}\n",
    "\n",
    "#' create data frame with (person_id, min_date, max_date, n_dates) for given omop concept_ids\n",
    "#' If descendants = TRUE, also include descendant concept_ids\n",
    "omop_procedure_occurrence <- function(omop, descendants = TRUE) {\n",
    "    \n",
    "    co <- tbl(con, \"procedure_occurrence\")\n",
    "    demo <- tbl(con, \"demographics\")\n",
    "    \n",
    "    keys <- omop\n",
    "    \n",
    "    if (descendants) {\n",
    "        keys <- omop_procedure_descendants(keys)\n",
    "    }\n",
    "    \n",
    "    res <- co |> \n",
    "      filter(procedure_concept_id %in% !!keys) |> \n",
    "      select(person_id, procedure_date) |>\n",
    "      group_by(person_id, procedure_date) |>\n",
    "         summarize(n = 1, .groups = \"drop\") |>\n",
    "      group_by(person_id) |>\n",
    "      summarize(min_date = min(procedure_date, na.rm = TRUE),\n",
    "                max_date = max(procedure_date, na.rm = TRUE),\n",
    "                n_dates = n(), .groups = \"drop\") |>\n",
    "      left_join(select(demo, person_id, dob), by = 'person_id') |>\n",
    "      mutate(min_age = (min_date - dob)/365.25, \n",
    "             max_age = (max_date - dob)/365.25) |> \n",
    "      select(person_id, min_date, max_date, min_age, max_age, n_dates) |>\n",
    "      collect() |>\n",
    "      mutate(min_date = as.Date(min_date),\n",
    "             max_date = as.Date(max_date))\n",
    "    \n",
    "    res\n",
    "}\n",
    "\n",
    "#' retrieve person_ids that form the universe for case-control phenotypes\n",
    "#' i.e. sex_at_birth in (Male, Female), has_srwgs, and has_ehr_data\n",
    "get_universe_cc <- function() {\n",
    "    \n",
    "    demo <- tbl(con, \"demographics\")\n",
    "    \n",
    "    res <- demo |>\n",
    "          filter(sex_at_birth %in% c('Male', 'Female')) |>\n",
    "          filter(has_srwgs == 1 & has_ehr_data == 1) |>\n",
    "          select(person_id) |>\n",
    "          collect() |>\n",
    "          pull(person_id)\n",
    "}\n",
    "\n",
    "#' return cases and controls for given condition and procedure concept ids\n",
    "#' this is the workhorse function\n",
    "#' it automatically includes descendants of all concept_ids\n",
    "get_cc_lists <- function(universe, case.cond = c(), case.proc = c(), \n",
    "                           case.excl.cond = c(), case.excl.proc = c(),\n",
    "                           ctrl.excl.cond = c(), ctrl.excl.proc = c()){\n",
    "    \n",
    "    \n",
    "    cases.0 <- intersect(universe, \n",
    "                         union(omop_condition_occurrence(case.cond)$person_id, \n",
    "                               omop_procedure_occurrence(case.proc)$person_id))\n",
    "    controls.0 <- setdiff(universe, cases.0) \n",
    "\n",
    "    cases.excl <- union(omop_condition_occurrence(case.excl.cond)$person_id,\n",
    "                        omop_procedure_occurrence(case.excl.proc)$person_id)\n",
    "    cases <- setdiff(cases.0, cases.excl)\n",
    "\n",
    "\n",
    "    controls.excl <- union(omop_condition_occurrence(ctrl.excl.cond)$person_id,\n",
    "                           omop_procedure_occurrence(ctrl.excl.proc)$person_id)\n",
    "    controls <- setdiff(controls.0, controls.excl)\n",
    "    \n",
    "    list(cases = cases, \n",
    "         controls = controls)\n",
    "    \n",
    "}\n",
    "\n",
    "\n",
    "\n",
    "get_cc_lists2 <- function(universe, \n",
    "                          case.cond = c(), \n",
    "                          case.proc = c(),\n",
    "                          case.min.age = 0,\n",
    "                          case.max.age = Inf,\n",
    "                          case.excl.cond = c(), \n",
    "                          case.excl.proc = c(),\n",
    "                          ctrl.excl.cond = c(), \n",
    "                          ctrl.excl.proc = c()){\n",
    "    \n",
    "    \n",
    "    co <- omop_condition_occurrence(case.cond) \n",
    "    po <- omop_procedure_occurrence(case.proc)\n",
    "    \n",
    "    # cases.0 (no age considered) only used to find controls.0\n",
    "    cases.0 <- intersect(universe, \n",
    "                         union(co$person_id, \n",
    "                               po$person_id))\n",
    "    controls.0 <- setdiff(universe, cases.0) \n",
    "\n",
    "    # filter cases on case.min.age <= age_at_first_diagnosis <= case.max.age\n",
    "    copo <- rbind(co, po) |>\n",
    "            group_by(person_id) |>\n",
    "            summarize(age_at_first_diagnosis = min(min_age), \n",
    "                      .group = 'drop') |>\n",
    "            filter(case.min.age <= age_at_first_diagnosis & age_at_first_diagnosis <= case.max.age)\n",
    "    \n",
    "    cases.1 <- intersect(universe, copo$person_id)\n",
    "    \n",
    "    cases.excl <- union(omop_condition_occurrence(case.excl.cond)$person_id,\n",
    "                        omop_procedure_occurrence(case.excl.proc)$person_id)\n",
    "    cases <- setdiff(cases.1, cases.excl)\n",
    "\n",
    "\n",
    "    controls.excl <- union(omop_condition_occurrence(ctrl.excl.cond)$person_id,\n",
    "                           omop_procedure_occurrence(ctrl.excl.proc)$person_id)\n",
    "    controls <- setdiff(controls.0, controls.excl)\n",
    "    \n",
    "    list(cases = cases, \n",
    "         controls = controls)\n",
    "    \n",
    "}\n",
    "\n",
    "\n",
    "\n",
    "\n",
    "\n",
    "#' add phenotype from case-control lists `pheno` to data frame `df`\n",
    "add_pheno <- function(df, pheno, label) {\n",
    "    \n",
    "    df |>\n",
    "        mutate(!!sym(label) := case_when(\n",
    "              person_id %in% pheno$cases    ~ 1L,\n",
    "              person_id %in% pheno$controls ~ 0L,\n",
    "              TRUE                          ~ NA_integer_\n",
    "    ))\n",
    "}"
   ]
  },
  {
   "cell_type": "markdown",
   "metadata": {},
   "source": [
    "## Example usage"
   ]
  },
  {
   "cell_type": "markdown",
   "metadata": {},
   "source": [
    "Start with definition of phenotype"
   ]
  },
  {
   "cell_type": "code",
   "execution_count": 2,
   "metadata": {
    "vscode": {
     "languageId": "r"
    }
   },
   "outputs": [],
   "source": [
    "case.cond.icd = c('J41','J42')\n",
    "case.proc = c(2105103, 2774098, 2774104)\n",
    "\n",
    "case.excl.cond.icd = c('J43','J44')"
   ]
  },
  {
   "cell_type": "markdown",
   "metadata": {},
   "source": [
    "The ICD codes need to be converted to OMOP concept ids"
   ]
  },
  {
   "cell_type": "code",
   "execution_count": 3,
   "metadata": {
    "vscode": {
     "languageId": "r"
    }
   },
   "outputs": [],
   "source": [
    "case.cond <- icd_to_omop(case.cond.icd)\n",
    "case.excl.cond <- icd_to_omop(case.excl.cond.icd)"
   ]
  },
  {
   "cell_type": "markdown",
   "metadata": {},
   "source": [
    "We can also check the conversion by returning a data frame"
   ]
  },
  {
   "cell_type": "code",
   "execution_count": 4,
   "metadata": {
    "vscode": {
     "languageId": "r"
    }
   },
   "outputs": [
    {
     "data": {
      "text/html": [
       "<table class=\"dataframe\">\n",
       "<caption>A tibble: 2 × 8</caption>\n",
       "<thead>\n",
       "\t<tr><th scope=col>icd_concept_id</th><th scope=col>icd_code</th><th scope=col>icd_name</th><th scope=col>icd_vocabulary</th><th scope=col>omop_concept_id</th><th scope=col>source_vocabulary</th><th scope=col>source_code</th><th scope=col>source_name</th></tr>\n",
       "\t<tr><th scope=col>&lt;int&gt;</th><th scope=col>&lt;chr&gt;</th><th scope=col>&lt;chr&gt;</th><th scope=col>&lt;chr&gt;</th><th scope=col>&lt;int&gt;</th><th scope=col>&lt;chr&gt;</th><th scope=col>&lt;chr&gt;</th><th scope=col>&lt;chr&gt;</th></tr>\n",
       "</thead>\n",
       "<tbody>\n",
       "\t<tr><td> 1569485</td><td>J41</td><td>Simple and mucopurulent chronic bronchitis</td><td>ICD10CM</td><td>255841</td><td>SNOMED</td><td>63480004</td><td>Chronic bronchitis</td></tr>\n",
       "\t<tr><td>35208017</td><td>J42</td><td>Unspecified chronic bronchitis            </td><td>ICD10CM</td><td>255841</td><td>SNOMED</td><td>63480004</td><td>Chronic bronchitis</td></tr>\n",
       "</tbody>\n",
       "</table>\n"
      ],
      "text/latex": [
       "A tibble: 2 × 8\n",
       "\\begin{tabular}{llllllll}\n",
       " icd\\_concept\\_id & icd\\_code & icd\\_name & icd\\_vocabulary & omop\\_concept\\_id & source\\_vocabulary & source\\_code & source\\_name\\\\\n",
       " <int> & <chr> & <chr> & <chr> & <int> & <chr> & <chr> & <chr>\\\\\n",
       "\\hline\n",
       "\t  1569485 & J41 & Simple and mucopurulent chronic bronchitis & ICD10CM & 255841 & SNOMED & 63480004 & Chronic bronchitis\\\\\n",
       "\t 35208017 & J42 & Unspecified chronic bronchitis             & ICD10CM & 255841 & SNOMED & 63480004 & Chronic bronchitis\\\\\n",
       "\\end{tabular}\n"
      ],
      "text/markdown": [
       "\n",
       "A tibble: 2 × 8\n",
       "\n",
       "| icd_concept_id &lt;int&gt; | icd_code &lt;chr&gt; | icd_name &lt;chr&gt; | icd_vocabulary &lt;chr&gt; | omop_concept_id &lt;int&gt; | source_vocabulary &lt;chr&gt; | source_code &lt;chr&gt; | source_name &lt;chr&gt; |\n",
       "|---|---|---|---|---|---|---|---|\n",
       "|  1569485 | J41 | Simple and mucopurulent chronic bronchitis | ICD10CM | 255841 | SNOMED | 63480004 | Chronic bronchitis |\n",
       "| 35208017 | J42 | Unspecified chronic bronchitis             | ICD10CM | 255841 | SNOMED | 63480004 | Chronic bronchitis |\n",
       "\n"
      ],
      "text/plain": [
       "  icd_concept_id icd_code icd_name                                  \n",
       "1  1569485       J41      Simple and mucopurulent chronic bronchitis\n",
       "2 35208017       J42      Unspecified chronic bronchitis            \n",
       "  icd_vocabulary omop_concept_id source_vocabulary source_code\n",
       "1 ICD10CM        255841          SNOMED            63480004   \n",
       "2 ICD10CM        255841          SNOMED            63480004   \n",
       "  source_name       \n",
       "1 Chronic bronchitis\n",
       "2 Chronic bronchitis"
      ]
     },
     "metadata": {},
     "output_type": "display_data"
    }
   ],
   "source": [
    "icd_to_omop(case.cond.icd, data.frame = TRUE)"
   ]
  },
  {
   "cell_type": "code",
   "execution_count": 5,
   "metadata": {
    "vscode": {
     "languageId": "r"
    }
   },
   "outputs": [],
   "source": [
    "universe <- get_universe_cc()"
   ]
  },
  {
   "cell_type": "markdown",
   "metadata": {},
   "source": [
    "The next query takes a rather long time the first time it is run. This is due to database warm-up. The time can be improved by using a SSD disk instead of a regular spinning hard disk.\n",
    "\n",
    "Subsequent queries should only take around 5 seconds."
   ]
  },
  {
   "cell_type": "code",
   "execution_count": 7,
   "metadata": {
    "vscode": {
     "languageId": "r"
    }
   },
   "outputs": [],
   "source": [
    "ph <- get_cc_lists(universe, \n",
    "                   case.cond = case.cond, \n",
    "                   case.proc = case.proc, \n",
    "                   case.excl.cond = case.excl.cond)"
   ]
  },
  {
   "cell_type": "markdown",
   "metadata": {},
   "source": [
    "Create a tibble with person_ids from the universe, and add phenotype using the cc list above"
   ]
  },
  {
   "cell_type": "code",
   "execution_count": 8,
   "metadata": {
    "vscode": {
     "languageId": "r"
    }
   },
   "outputs": [],
   "source": [
    "pheno <- tibble(person_id = universe) \n",
    "pheno <- add_pheno(pheno, ph, \"myphenotype\")"
   ]
  },
  {
   "cell_type": "code",
   "execution_count": 9,
   "metadata": {
    "vscode": {
     "languageId": "r"
    }
   },
   "outputs": [
    {
     "data": {
      "text/plain": [
       "\n",
       "     0      1   <NA> \n",
       "302750   6325   5545 "
      ]
     },
     "metadata": {},
     "output_type": "display_data"
    }
   ],
   "source": [
    "table(pheno$myphenotype, useNA = \"ifany\")"
   ]
  },
  {
   "cell_type": "code",
   "execution_count": null,
   "metadata": {
    "vscode": {
     "languageId": "r"
    }
   },
   "outputs": [],
   "source": [
    "head(pheno)"
   ]
  },
  {
   "cell_type": "markdown",
   "metadata": {},
   "source": [
    "One can add multiple phenotypes iteratively. To convert the pheno df to a format that can be used with regenie, we need to add the FID and IID columns"
   ]
  },
  {
   "cell_type": "code",
   "execution_count": 11,
   "metadata": {
    "vscode": {
     "languageId": "r"
    }
   },
   "outputs": [],
   "source": [
    "regenie <- pheno |>\n",
    "  select(FID = person_id, IID = person_id, everything())"
   ]
  },
  {
   "cell_type": "code",
   "execution_count": null,
   "metadata": {
    "vscode": {
     "languageId": "r"
    }
   },
   "outputs": [],
   "source": [
    "head(regenie)"
   ]
  },
  {
   "cell_type": "code",
   "execution_count": null,
   "metadata": {
    "vscode": {
     "languageId": "r"
    }
   },
   "outputs": [],
   "source": [
    "require(data.table)\n",
    "fwrite(regenie, \"regenie_pheno.tsv\", sep = \"\\t\", na = \"NA\")"
   ]
  },
  {
   "cell_type": "markdown",
   "metadata": {},
   "source": [
    "get_cc_lists2 also allows specification of minimum or maximum age at first diagnosis"
   ]
  },
  {
   "cell_type": "code",
   "execution_count": 13,
   "metadata": {
    "vscode": {
     "languageId": "r"
    }
   },
   "outputs": [],
   "source": [
    "ph2 <- get_cc_lists2(universe, \n",
    "                   case.cond = case.cond, \n",
    "                   case.proc = case.proc, \n",
    "                   case.min.age = 65,\n",
    "                   case.excl.cond = case.excl.cond)"
   ]
  },
  {
   "cell_type": "code",
   "execution_count": 14,
   "metadata": {
    "vscode": {
     "languageId": "r"
    }
   },
   "outputs": [],
   "source": [
    "pheno <- add_pheno(pheno, ph2, \"ph2_age\")"
   ]
  },
  {
   "cell_type": "code",
   "execution_count": 18,
   "metadata": {
    "vscode": {
     "languageId": "r"
    }
   },
   "outputs": [
    {
     "data": {
      "text/plain": [
       "      \n",
       "            0      1   <NA>\n",
       "  0    302750      0      0\n",
       "  1         0   2579   3746\n",
       "  <NA>      0      0   5545"
      ]
     },
     "metadata": {},
     "output_type": "display_data"
    }
   ],
   "source": [
    "table(pheno$myphenotype, pheno$ph2_age, useNA = \"ifany\")"
   ]
  }
 ],
 "metadata": {
  "kernelspec": {
   "display_name": "R",
   "language": "R",
   "name": "ir"
  },
  "language_info": {
   "codemirror_mode": "r",
   "file_extension": ".r",
   "mimetype": "text/x-r-source",
   "name": "R",
   "pygments_lexer": "r",
   "version": "4.5.0"
  },
  "toc": {
   "base_numbering": 1,
   "nav_menu": {},
   "number_sections": true,
   "sideBar": true,
   "skip_h1_title": false,
   "title_cell": "Table of Contents",
   "title_sidebar": "Contents",
   "toc_cell": false,
   "toc_position": {},
   "toc_section_display": true,
   "toc_window_display": false
  }
 },
 "nbformat": 4,
 "nbformat_minor": 2
}
